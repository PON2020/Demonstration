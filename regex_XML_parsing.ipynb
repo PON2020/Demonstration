{
 "cells": [
  {
   "cell_type": "code",
   "execution_count": null,
   "metadata": {},
   "outputs": [],
   "source": [
    "# This is a demonstration of making a plot based on data I scraped from a web page \n",
    "# using regular expressions."
   ]
  },
  {
   "cell_type": "code",
   "execution_count": 6,
   "metadata": {},
   "outputs": [],
   "source": [
    "# import packages\n",
    "import bs4 as beutifulsoup\n",
    "import urllib\n",
    "import re as re\n",
    "import numpy as np\n",
    "import matplotlib.pyplot as plt\n",
    "import seaborn as sns\n",
    "import pandas as pd"
   ]
  },
  {
   "cell_type": "code",
   "execution_count": 7,
   "metadata": {},
   "outputs": [
    {
     "name": "stdout",
     "output_type": "stream",
     "text": [
      "<class 'bytes'>\n"
     ]
    }
   ],
   "source": [
    "# I am going to explore the number of publications produced in\n",
    "# the Fox Lab using the data from the lab website.\n",
    "# download web page using URL\n",
    "URL = 'https://foxlab.ucdavis.edu/category/publications.html'\n",
    "r = urllib.request.urlopen(URL).read()\n",
    "print(type(r))"
   ]
  },
  {
   "cell_type": "code",
   "execution_count": 8,
   "metadata": {},
   "outputs": [
    {
     "name": "stdout",
     "output_type": "stream",
     "text": [
      "<class 'bs4.BeautifulSoup'>\n",
      "<class 'str'>\n"
     ]
    }
   ],
   "source": [
    "# parse web page using beutifulsoup\n",
    "webpage = beutifulsoup.BeautifulSoup(r)\n",
    "print(type(webpage))\n",
    "webpage = webpage.prettify()\n",
    "print(type(webpage))"
   ]
  },
  {
   "cell_type": "code",
   "execution_count": 9,
   "metadata": {},
   "outputs": [
    {
     "name": "stdout",
     "output_type": "stream",
     "text": [
      "[('Chuapoco MR,   Flytzanis NC,   Goeden N,   Octeau JC,   Roxas KM,   Chan KY,   Scherrer J,   Winchester J,   Blackburn RJ,   Campos LJ,   Arokiaraj CM,   Miles TF,   Jang MJ,   Vendemiatti J,   Deverman BE,   Pickel J,   Fox AS,   Gradinaru V     ', '2022'), ('Fox AS,   Harris RA,   Del Rosso L,   Raveendran M,   Kamboj S,   Kinnally EL,   Capitanio JP,   Rogers J     ', '2021'), ('Roseboom PH,   Mueller SAL,   Oler JA,   Fox AS,   Riedel MK,   Elam VR,   Olsen ME,   Gomez JL,   Boehm MA,   DiFilippo AH,   Christian BT,   Michaelides M,   Kalin NH     ', '2021'), ('Wang X,   Li XH,   Cho JW,   Russ BE,   Rajamani N,   Omelchenko A,   Ai L,   Korchmaros A,   Sawiak S,   Benn RA,   Garcia-Saldivar P,   Wang Z,   Kalin NH,   Schroeder CE,   Craddock RC,   Fox AS,   Evans AC,   Messinger A,   Milham MP,   Xu T     ', '2021'), ('Klink PC,   Aubry J-F,   Ferrera V,   Fox AS,   Froudist-Walsh S,   Jarray B,   Konofagou E,   Krauzlis R,   Messinger A,   Mitchell AS,   Ortiz-Rios M,   Oya H,   Roberts AC,   Roe AW,   Rushworth MFS,   Sallet J,   Schmid MC,   Schroeder CE,   Tasserie J,   Tsao D,   Uhrig L,   Vanduffel W,   Wilke M,   Kagan I,   &amp; Petkov CI     ', '2021'), ('Poirier C,   Hamed SB,   Garcia-Saldivar P,   Kwok SC,   Meguerditchian A,   Merchant H,   Rogers J,   Wells S,   Fox AS     ', '2021'), ('Shackman AJ,   Fox AS     ', '2021'), ('Fox AS,   Holley D,   Klink PC,   Arbuckle SA,   Barnes CA,   Diedrichsen J,   Kwok SC,   Kyle C,   Pruszynski JA,   Seidlitz J,   Zhou X,   Poldrack RA,   Gorgolewski KJ     ', '2021'), ('Hur J,   Smith JF,   DeYoung KA,   Anderson AS,   Kuang J,   Kim HC,   Tillman RM,   Kuhn M,   Fox AS,   &amp; Shackman AJ     ', '2020'), ('Kovner R,   Souaiaia T,   Fox AS,   French DA,   Goss CE,   Roseboom PH,   Oler JA,   Riedel M,   Fekete E,   Fudge JL,   Knowles JA,   Kalin NH     ', '2020'), ('The PRIMatE Data Exchange (PRIME-DE) Global Collaboration Workshop and Consortium     ', '2020'), ('Fox AS*,   Souaiaia T*,   Oler JA,   Kovner R,   Mun J,   Nguyen J,   French DA,   Riedel M,   Fekete E,   Rabska MR,   Olsen ME,   Brodsky EK,   Alexander AL,   Block WF,   Roseboom PH,   Knowles JA,   Kalin NH     ', '2019'), ('Tromp DPM,   Fox AS,   Oler JA,   Alexander AL,   Kalin NH     ', '2019'), ('Golub MS,   Hogrefe CE,   Campos LJ,   Fox AS     ', '2019'), ('Hur J,   Stockbridge MD,   Fox AS,   Shackman AJ     ', '2019'), ('Tromp DPM,   Williams LE,   Fox AS,   Oler JA,   Roseboom PH,   Rogers GM,   Benson BE,   Alexander AL,   Pine DS,   Kalin NH     ', '2019'), ('Kovner R,   Fox AS,   French DA,   Roseboom PH,   Oler JA,   Fudge JL,   Kalin NH     ', '2019'), ('Fox AS*,   Shackman AJ*     ', '2019'), ('Heller AS,   Fox AS,   Davidson RJ     ', '2019'), ('Hur J,   Tillman RM,   Fox AS,   Shackman AJ     ', '2019'), ('Hur J,   Kaplan CM,   Smith JF,   Bradford DE,   Fox AS,   Curtin JJ,   Shackman AJ     ', '2018'), ('Fox AS*,   Oler JA*,   Birn RM,   Shackman AJ,   Alexander AL,   &amp; Kalin,   NH     ', '2018'), ('Shackman AJ*,   Fox AS*     ', '2018'), ('Tillman RM,   Stockbridge MD,   Nacewicz BM,   Torrisi S,   Fox AS,   Smith JF,   Shackman AJ     ', '2018'), ('Fox AS     ', '2018'), ('Fox AS*,   Lapate RC,   Davidson RJ &amp; Shackman AJ*     ', '2018'), ('Fox AS     ', '2018'), ('Okon-Singer H,   Stout DM,   Stockbridge MD,   Gamer M,   Fox AS &amp; Shackman AJ     ', '2018'), ('Shackman AJ,   Stockbridge MD,   LeMay EP,   &amp; Fox AS     ', '2018'), ('Fox AS &amp; Lapate RC     ', '2018'), ('Fox AS &amp; Lapate RC     ', '2018'), ('Fox AS &amp; Shackman AJ     ', '2018'), ('Fox AS &amp; Shackman AJ     ', '2018'), ('Lapate RC &amp; Fox AS     ', '2018'), ('Lapate RC &amp; Fox AS     ', '2018'), ('Shackman AJ &amp; Fox AS     ', '2018'), ('Shackman AJ &amp; Fox AS     ', '2018'), ('Shackman AJ,   Lapate RC &amp; Fox AS     ', '2018'), ('Shackman AJ,   Weinstein J,   Hudja SN,   Bloomer C,   Barstead MG,   Fox AS &amp; Lemay EP,   Jr.     ', '2018'), ('Shackman AJ*,   Fox AS*,   Oler JA,   Shelton SE,   Oakes TR,   Davidson RJ,   &amp; Kalin,   NH     ', '2017'), ('Oler JA*,   Tromp DPM*,   Fox AS,   Kovner R,   Davidson RJ,   Alexander AL,   MacFarlin D,   Birn R,   Berg B,   de Campo D,   Fudge JL,   &amp; Kalin NH     ', '2017'), ('Shackman AJ*,   Fox AS*     ', '2016'), ('Shackman AJ,   Tromp DPM,   Stockbridge MD,   Kaplan CM,   Tillman RM,   &amp; Fox AS     ', '2016'), ('Shackman AJ*,   Fox AS*,   Oler JA,   Shelton SE,   Oakes TR,   Davidson RJ,   &amp; Kalin,   NH     ', '2016'), ('Shackman AJ,   Kaplan CM,   Stockbridge MD,   Tillman RM,   Tromp DPM,   Fox AS,   Gamer M     ', '2016'), ('Kalin NH,   Fox AS,   Kovner R,   Riedel MK,   Feketa EM,   Roseboom PH,   Tromp DPM,   Grabow BP,   Brodsky EK,   Olsen ME,   Alexander AL,   Emborg ME,   Block WF,   Fudge JL,   Oler JA     ', '2016'), ('Oler JA,   Fox AS,   Shackman AJ,   Kalin NH     ', '2016'), ('Oler JA*,   Tromp DPM*,   Fox AS,   Kovner R,   Davidson RJ,   Alexander AL,   MacFarlin D,   Birn R,   Berg B,   de Campo D,   Fudge JL,   &amp; Kalin NH     ', '2016'), ('Fox AS,   Oler JA,   Shackman AJ,   Shelton SE,   Raveendran M,   McKay DR,   Converse AK,   Alexander AL,   Davidson RJ,   Blangero J,   Rogers J,   &amp; Kalin NH     ', '2015'), ('Fox AS,   Oler JA,   Tromp DPM,   Fudge J,   &amp; Kalin NH     ', '2015'), ('Heller AS,   Fox AS,   Wing EK,   Mayer K,   Vack NJ,   Davidson RJ     ', '2015'), ('Weng HY,   Fox AS,   Hessenthaler HC,   Stodola DE,   Davidson RJ     ', '2015'), ('Kennis M,   van Rooij SJH,   Tromp DPM,   Fox AS,   Rademaker  AR,   Kahn RS,   Kalin NH,   Geuze E     ', '2015'), ('Williams LE,   Oler JA,   Fox AS,   McFarlin DR,   Rogers GM,   Davidson RJ,   Pine DS,   Jesson MAL,   Kalin NH     ', '2015'), ('Shackman AJ,   Fox AS,   Seminowicz DA     ', '2015'), ('Roseboom PH,   Nanda SA,   Fox AS,   Oler JA,   Shackman AJ,   Shelton SE,   Davidson RJ,   Kalin NH     ', '2014'), ('Alisch RS,   Chopra P,   Fox AS,   Chen K,   White ATJ,   Roseboom PH,   Keles S,   Kalin NH     ', '2014'), ('Fox AS &amp; Kalin NH     ', '2014'), ('Birn RM*,   Shackman AJ*,   Oler JA,   Williams LE,   McFarlin DR,   Rogers GM,   Shelton SE,   Alexander AL,   Pine P,   Slattery MJ,   Davidson RJ,   Fox AS,   Kalin NH     ', '2014'), ('Tomer R,   Slagter HA,   Christian BT,   Fox AS,   King CR,   Murali D,   Gluck MA,   Davidson RJ     ', '2014'), ('Shackman AJ*,   Fox AS*,   Oler JA,   Shelton SE,   Davidson RJ,   Kalin NH     ', '2013'), ('Tomer R,   Slagter HA,   Christian BT,   Fox AS,   King CR,   Murali D,   Davidson RJ     ', '2013'), ('Weng HY,   Fox AS,   Shackman AJ,   Stodola DE,   Caldwell JK,   Olson MC,   Rogers GM,   Davidson RJ     ', '2013'), ('Oler JA,   Birn RM,   Patriat R,   Fox AS,   Shelton SE,   Burghy CA,   Stodola DE,   Essex MJ,   Davidson RJ,   Kalin NH     ', '2012'), ('Slagter HA,   Tomer R,   Christian BT,   Fox AS\\xa0Colzato LS,   King CR,   Murali D,   Davidson RJ     ', '2012'), ('Rogers J,   Raveendran M,   Fawcett GL,   Fox AS,   Oler JA,   Cheverud J,   Muzny DM,   Gibbs RA,   Davidson RJ,   Kalin NH     ', '2012'), ('Fox AS,   Oler JA,   Shelton SE,   Nanda SA,   Davidson RJ,   Roseboom PH,   Kalin NH     ', '2012'), ('Shackman AJ*,   Salomons TV*,   Slagter HA,   Fox AS,   Davidson RJ     ', '2011'), ('Adluru N,   Zhang H,   Fox AS,   Shelton SE,   Ennis CM,   Bartosic AM,   Oler JA,   Tromp DPM,   Zakszewski E,   Gee JC,   Kalin NH,   Alexander AL     ', '2011'), ('Jahn AL,   Fox AS,   Abercrombie HC,   Shelton SE,   Oakes TR,   Davidson RJ,   &amp; Kalin NH     ', '2010'), ('Fox AS,   Shelton SE,   Oakes,   TR,   Davidson RJ,   Kalin NH     ', '2010'), ('Oler JA*,   Fox AS*,   Shelton SE,   Rogers J,   Blangero J,   Davidson RJ,   Shelledy W,   Oakes TR,   Dyer T,   Kalin NH     ', '2010'), ('Christian BT,   Vandehey NT,   Fox AS,   Murali D,   Oakes TR,   Nickles RJ,   Shelton SE,   Davidson RJ,   Kalin NH     ', '2009'), ('Christian BT,   Fox AS,   Oler JA,   Vandehey NT,   Murali D,   Rogers J,   Oakes TR,   Shelton SE,   Davidson RJ,   Kalin NH     ', '2009'), ('Oler JA,   Fox AS,   Shelton SE,   Christian BT,   Murali D,   Oakes TR,   Davidson RJ,   Kalin NH     ', '2009'), ('Kalin NH,   Shelton SE,   Fox AS,   Rogers J,   Oakes TR,   Davidson RJ     ', '2008'), ('Fox AS,   Shelton SE,   Oakes TR,   Davidson RJ,   Kalin NH     ', '2008'), ('Oakes TR,   Fox AS,   Johnstone T,   Chung MK,   Kalin NH,   Davidson RJ     ', '2007'), ('Davidson RJ,   Fox AS,   Kalin NH     ', '2006'), ('Johnstone T,   Ores-Walsh KS,   Greischar LL,   Alexander AL,   Fox AS,   Davidson RJ,   Oakes TR     ', '2006'), ('Fox AS,   Oakes TR,   Shelton SE,   Converse AK,   Davidson RJ,   Kalin NH     ', '2005'), ('Oakes TR,   Johnstone T,   Ores Walsh KS,   Greischar LL,   Alexander AL,   Fox AS,   Davidson RJ     ', '2005'), ('Kalin NH,   Shelton SE,   Fox AS,   Oakes TR,   Davidson RJ     ', '2005'), ('Nitschke JB,   Nelson EE,   Rusch BD,   Fox AS,   Oakes TR,   Davidson RJ     ', '2004'), ('Pizzagalli DA,   Oakes TR,   Fox AS,   Chung MK,   Larson CL,   Abercrombie HC,   Schaefer SM,   Benca RM,   Davidson RJ     ', '2004')]\n"
     ]
    },
    {
     "data": {
      "text/html": [
       "<div>\n",
       "<style scoped>\n",
       "    .dataframe tbody tr th:only-of-type {\n",
       "        vertical-align: middle;\n",
       "    }\n",
       "\n",
       "    .dataframe tbody tr th {\n",
       "        vertical-align: top;\n",
       "    }\n",
       "\n",
       "    .dataframe thead th {\n",
       "        text-align: right;\n",
       "    }\n",
       "</style>\n",
       "<table border=\"1\" class=\"dataframe\">\n",
       "  <thead>\n",
       "    <tr style=\"text-align: right;\">\n",
       "      <th></th>\n",
       "      <th>authors</th>\n",
       "      <th>year</th>\n",
       "    </tr>\n",
       "  </thead>\n",
       "  <tbody>\n",
       "    <tr>\n",
       "      <th>0</th>\n",
       "      <td>Chuapoco MR,   Flytzanis NC,   Goeden N,   Oct...</td>\n",
       "      <td>2022</td>\n",
       "    </tr>\n",
       "    <tr>\n",
       "      <th>1</th>\n",
       "      <td>Fox AS,   Harris RA,   Del Rosso L,   Raveendr...</td>\n",
       "      <td>2021</td>\n",
       "    </tr>\n",
       "    <tr>\n",
       "      <th>2</th>\n",
       "      <td>Roseboom PH,   Mueller SAL,   Oler JA,   Fox A...</td>\n",
       "      <td>2021</td>\n",
       "    </tr>\n",
       "    <tr>\n",
       "      <th>3</th>\n",
       "      <td>Wang X,   Li XH,   Cho JW,   Russ BE,   Rajama...</td>\n",
       "      <td>2021</td>\n",
       "    </tr>\n",
       "    <tr>\n",
       "      <th>4</th>\n",
       "      <td>Klink PC,   Aubry J-F,   Ferrera V,   Fox AS, ...</td>\n",
       "      <td>2021</td>\n",
       "    </tr>\n",
       "    <tr>\n",
       "      <th>...</th>\n",
       "      <td>...</td>\n",
       "      <td>...</td>\n",
       "    </tr>\n",
       "    <tr>\n",
       "      <th>80</th>\n",
       "      <td>Fox AS,   Oakes TR,   Shelton SE,   Converse A...</td>\n",
       "      <td>2005</td>\n",
       "    </tr>\n",
       "    <tr>\n",
       "      <th>81</th>\n",
       "      <td>Oakes TR,   Johnstone T,   Ores Walsh KS,   Gr...</td>\n",
       "      <td>2005</td>\n",
       "    </tr>\n",
       "    <tr>\n",
       "      <th>82</th>\n",
       "      <td>Kalin NH,   Shelton SE,   Fox AS,   Oakes TR, ...</td>\n",
       "      <td>2005</td>\n",
       "    </tr>\n",
       "    <tr>\n",
       "      <th>83</th>\n",
       "      <td>Nitschke JB,   Nelson EE,   Rusch BD,   Fox AS...</td>\n",
       "      <td>2004</td>\n",
       "    </tr>\n",
       "    <tr>\n",
       "      <th>84</th>\n",
       "      <td>Pizzagalli DA,   Oakes TR,   Fox AS,   Chung M...</td>\n",
       "      <td>2004</td>\n",
       "    </tr>\n",
       "  </tbody>\n",
       "</table>\n",
       "<p>85 rows × 2 columns</p>\n",
       "</div>"
      ],
      "text/plain": [
       "                                              authors  year\n",
       "0   Chuapoco MR,   Flytzanis NC,   Goeden N,   Oct...  2022\n",
       "1   Fox AS,   Harris RA,   Del Rosso L,   Raveendr...  2021\n",
       "2   Roseboom PH,   Mueller SAL,   Oler JA,   Fox A...  2021\n",
       "3   Wang X,   Li XH,   Cho JW,   Russ BE,   Rajama...  2021\n",
       "4   Klink PC,   Aubry J-F,   Ferrera V,   Fox AS, ...  2021\n",
       "..                                                ...   ...\n",
       "80  Fox AS,   Oakes TR,   Shelton SE,   Converse A...  2005\n",
       "81  Oakes TR,   Johnstone T,   Ores Walsh KS,   Gr...  2005\n",
       "82  Kalin NH,   Shelton SE,   Fox AS,   Oakes TR, ...  2005\n",
       "83  Nitschke JB,   Nelson EE,   Rusch BD,   Fox AS...  2004\n",
       "84  Pizzagalli DA,   Oakes TR,   Fox AS,   Chung M...  2004\n",
       "\n",
       "[85 rows x 2 columns]"
      ]
     },
     "execution_count": 9,
     "metadata": {},
     "output_type": "execute_result"
    }
   ],
   "source": [
    "# this web page contains information about the publications produced in the \n",
    "# Fox Lab starting from 2004. There are some patterns in the format of the\n",
    "# web page that could be used to scrap data:\n",
    "# 1) for each publication, the year of publication is always indicated within parenthesis ()\n",
    "# 2) for each publication, information of authorship precedes the year of publication.\n",
    "# 3) each publication is an item in a list, which is indicated by <li> </li>. There is also\n",
    "# a <div> tag before <li> tag.\n",
    "\n",
    "# define a pattern that matches both the authorship and the year of publication\n",
    "pattern ='<div>\\W*<li>\\W*(?P<author>.+\\W+)\\(\\W*(?P<year>\\d+)\\W*\\)'\n",
    "# store the matched information in a list\n",
    "my_list=re.findall(pattern, webpage)\n",
    "# take a look at the list, it is a list of tuples\n",
    "print(my_list)\n",
    "# turn the list into a data frame\n",
    "df = pd.DataFrame(my_list, columns=['authors', 'year'])\n",
    "df"
   ]
  },
  {
   "cell_type": "code",
   "execution_count": 10,
   "metadata": {},
   "outputs": [
    {
     "name": "stdout",
     "output_type": "stream",
     "text": [
      "col_0  count\n",
      "year        \n",
      "2004       2\n",
      "2005       3\n",
      "2006       2\n",
      "2007       1\n",
      "2008       2\n",
      "2009       3\n",
      "2010       3\n",
      "2011       2\n",
      "2012       4\n",
      "2013       3\n",
      "2014       5\n",
      "2015       7\n",
      "2016       7\n",
      "2017       2\n",
      "2018      19\n",
      "2019       9\n",
      "2020       3\n",
      "2021       7\n",
      "2022       1\n"
     ]
    },
    {
     "data": {
      "text/plain": [
       "Text(0, 0.5, 'number of publications')"
      ]
     },
     "execution_count": 10,
     "metadata": {},
     "output_type": "execute_result"
    },
    {
     "data": {
      "image/png": "[encoded data removed]",
      "text/plain": [
       "<Figure size 864x432 with 1 Axes>"
      ]
     },
     "metadata": {
      "needs_background": "light"
     },
     "output_type": "display_data"
    }
   ],
   "source": [
    "# make a frequency table for number of publications per year\n",
    "print(pd.crosstab(index=df['year'], columns='count'))\n",
    "# plot the number of publication by year\n",
    "fig= plt.figure(figsize=(12,6))\n",
    "ax= plt.subplot()\n",
    "ax= sns.countplot(x='year',data=df)\n",
    "plt.yticks(np.arange(0, 25, step=1))\n",
    "plt.ylabel(\"number of publications\")"
   ]
  }
 ],
 "metadata": {
  "kernelspec": {
   "display_name": "Python 3",
   "language": "python",
   "name": "python3"
  },
  "language_info": {
   "codemirror_mode": {
    "name": "ipython",
    "version": 3
   },
   "file_extension": ".py",
   "mimetype": "text/x-python",
   "name": "python",
   "nbconvert_exporter": "python",
   "pygments_lexer": "ipython3",
   "version": "3.8.5"
  }
 },
 "nbformat": 4,
 "nbformat_minor": 4
}
